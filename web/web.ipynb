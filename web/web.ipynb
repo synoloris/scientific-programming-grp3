{
 "cells": [
  {
   "cell_type": "code",
   "execution_count": 2,
   "metadata": {},
   "outputs": [
    {
     "name": "stdout",
     "output_type": "stream",
     "text": [
      " * Serving Flask app '__main__'\n",
      " * Debug mode: off\n"
     ]
    },
    {
     "name": "stderr",
     "output_type": "stream",
     "text": [
      "WARNING: This is a development server. Do not use it in a production deployment. Use a production WSGI server instead.\n",
      " * Running on http://localhost:8080\n",
      "Press CTRL+C to quit\n",
      "127.0.0.1 - - [28/May/2023 18:11:27] \"GET / HTTP/1.1\" 200 -\n",
      "127.0.0.1 - - [28/May/2023 18:11:28] \"GET /static/universal.js HTTP/1.1\" 304 -\n",
      "127.0.0.1 - - [28/May/2023 18:11:28] \"GET /static/universal.css HTTP/1.1\" 304 -\n"
     ]
    }
   ],
   "source": [
    "import pandas as pd\n",
    "\n",
    "# all three dataframes\n",
    "dataframes = {}\n",
    "dataframes[\"gdp_emissions\"] = pd.read_csv('../final_csv/merged_df_gdp_emissions.csv')\n",
    "dataframes[\"gdp_suicide\"]  = pd.read_csv('../final_csv/merged_df_gdp_suicide.csv')\n",
    "dataframes[\"emissions_suicide\"] = pd.read_csv('../final_csv/merged_df_emissions_suicide.csv')\n",
    "\n",
    "# for the dropdown\n",
    "types = [\n",
    "    {'name': 'gdp_emissions', 'text': 'GDP / Emissions'},\n",
    "    {'name': 'gdp_suicide', 'text': 'GDP / Suicide'},\n",
    "    {'name': 'emissions_suicide', 'text': 'Emissions / Suicide'},\n",
    "]\n",
    "\n",
    "# get the years descending of the passed dataframe\n",
    "def getYears(type): \n",
    "    global dataframes\n",
    "    df = dataframes[type].copy()\n",
    "    years = df[\"year\"].unique()\n",
    "    years = years[::-1]\n",
    "\n",
    "    return years\n",
    "\n",
    "# get markers of the passed dataframe based on the passed year\n",
    "def getMarkers(type, year):\n",
    "    global dataframes\n",
    "\n",
    "    markers = []\n",
    "    for index, row in dataframes[type].copy().loc[dataframes[type].copy()['year'] == int(year)].iterrows():\n",
    "        html = '<span class=\\'country\\'>'+ row['country'] +'</span><table>'\n",
    "        if type == 'gdp_emissions':\n",
    "            html += '<tr><td>GDP</td><td>' + str(row['GDP_Value']) + '</td></tr> <tr><td>Emissions</td><td>' + str(row['Total amount of CO2']) + '</td></tr>'\n",
    "        elif type == 'gdp_suicide':\n",
    "            html += '<tr><td>GDP</td><td>' + str(row['GDP_Value']) + '</td></tr> <tr><td>Suicides</td><td> ' + str(row['suicides_no']) + '</td></tr>'\n",
    "        else:\n",
    "            html += '<tr><td>Emissions</td><td>' + str(row['Total amount of CO2']) + '</td></tr> <tr><td>Suicides</td><td> ' + str(row['suicides_no']) + '</td></tr>'\n",
    "\n",
    "        html += '</table>'\n",
    "        markers.append({'lat':row['latitude'], 'lon':row['longitude'], 'popup': html})\n",
    "\n",
    "    return markers\n",
    "\n",
    "# Flask\n",
    "from flask import Flask, render_template, request\n",
    "\n",
    "app=Flask(__name__)\n",
    "\n",
    "# URL / => return index.html with gdp and emissions data in 2016\n",
    "@app.route('/')\n",
    "def root():\n",
    "    return render_template('index.html',markers=getMarkers('gdp_emissions', 2016), years=getYears('gdp_emissions'), types=types, activeYr=0, activeCy='')\n",
    "\n",
    "\n",
    "# URL /data => return index.html with specific type and year data\n",
    "@app.route('/data')\n",
    "def showData():\n",
    "    category = str(request.args.get('category', default = 'gdp_emissions', type = str))\n",
    "    year = str(request.args.get('year', default = 2016, type = int))\n",
    "    return render_template('index.html',markers=getMarkers(category, year), years=getYears(category),types=types, activeYr=int(year), activeCy=str(category))\n",
    "\n",
    "if __name__ == '__main__':\n",
    "    app.run(host=\"localhost\", port=8080, debug=False)\n"
   ]
  }
 ],
 "metadata": {
  "kernelspec": {
   "display_name": "spenv",
   "language": "python",
   "name": "python3"
  },
  "language_info": {
   "codemirror_mode": {
    "name": "ipython",
    "version": 3
   },
   "file_extension": ".py",
   "mimetype": "text/x-python",
   "name": "python",
   "nbconvert_exporter": "python",
   "pygments_lexer": "ipython3",
   "version": "3.10.9"
  },
  "orig_nbformat": 4
 },
 "nbformat": 4,
 "nbformat_minor": 2
}
