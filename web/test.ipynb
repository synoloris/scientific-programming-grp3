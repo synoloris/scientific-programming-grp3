{
 "cells": [
  {
   "attachments": {},
   "cell_type": "markdown",
   "metadata": {},
   "source": [
    "CSV Dateien holen"
   ]
  },
  {
   "cell_type": "code",
   "execution_count": 8,
   "metadata": {},
   "outputs": [
    {
     "name": "stdout",
     "output_type": "stream",
     "text": [
      "        country ISO 3166-1 alpha-3  year       Total  \\\n",
      "0       Albania                ALB  2006    3.910715   \n",
      "1       Albania                ALB  2007    3.948970   \n",
      "2       Albania                ALB  2008    4.397043   \n",
      "3       Albania                ALB  2009    4.406552   \n",
      "4       Albania                ALB  2010    4.783865   \n",
      "..          ...                ...   ...         ...   \n",
      "756  Uzbekistan                UZB  2010  104.156837   \n",
      "757  Uzbekistan                UZB  2011  113.283524   \n",
      "758  Uzbekistan                UZB  2012  118.854708   \n",
      "759  Uzbekistan                UZB  2013  112.281970   \n",
      "760  Uzbekistan                UZB  2014  107.399472   \n",
      "\n",
      "                                                   sex  \\\n",
      "0    femalefemalefemalefemalefemalefemalemalemalema...   \n",
      "1    malemalemalefemalemalefemalemalefemalefemalefe...   \n",
      "2    malemalemalefemalefemalefemalefemalemalemalefe...   \n",
      "3    femalefemalefemalefemalefemalefemalemalemalema...   \n",
      "4    malemalemalemalemalefemalefemalefemalefemalefe...   \n",
      "..                                                 ...   \n",
      "756  malemalemalemalefemalemalefemalefemalemalefema...   \n",
      "757  malemalemalefemalemalefemalemalefemalemalefema...   \n",
      "758  malemalemalefemalemalemalefemalefemalemalefema...   \n",
      "759  malemalefemalemalemalemalefemalefemalefemalema...   \n",
      "760  malemalefemalemalemalemalefemalefemalefemalema...   \n",
      "\n",
      "                                                   age  suicides_no  \\\n",
      "0    15-24 years25-34 years35-54 years5-14 years55-...            0   \n",
      "1    75+ years35-54 years55-74 years75+ years25-34 ...          124   \n",
      "2    25-34 years35-54 years55-74 years75+ years15-2...          160   \n",
      "3    15-24 years25-34 years35-54 years5-14 years55-...            0   \n",
      "4    55-74 years35-54 years25-34 years75+ years15-2...           96   \n",
      "..                                                 ...          ...   \n",
      "756  35-54 years25-34 years55-74 years15-24 years15...         1464   \n",
      "757  35-54 years25-34 years15-24 years15-24 years55...         1640   \n",
      "758  35-54 years55-74 years25-34 years15-24 years15...         1835   \n",
      "759  35-54 years25-34 years15-24 years15-24 years55...         1950   \n",
      "760  35-54 years25-34 years15-24 years55-74 years15...         2095   \n",
      "\n",
      "     population  suicides/100k pop  \\\n",
      "0       2780176               0.00   \n",
      "1       2770344              65.85   \n",
      "2       2757059              71.05   \n",
      "3       2745735               0.00   \n",
      "4       2736025              41.66   \n",
      "..          ...                ...   \n",
      "756    25651783              63.23   \n",
      "757    25978049              67.14   \n",
      "758    26381830              77.53   \n",
      "759    26838924              78.86   \n",
      "760    27313507              85.12   \n",
      "\n",
      "                                          country-year  \\\n",
      "0    Albania2006Albania2006Albania2006Albania2006Al...   \n",
      "1    Albania2007Albania2007Albania2007Albania2007Al...   \n",
      "2    Albania2008Albania2008Albania2008Albania2008Al...   \n",
      "3    Albania2009Albania2009Albania2009Albania2009Al...   \n",
      "4    Albania2010Albania2010Albania2010Albania2010Al...   \n",
      "..                                                 ...   \n",
      "756  Uzbekistan2010Uzbekistan2010Uzbekistan2010Uzbe...   \n",
      "757  Uzbekistan2011Uzbekistan2011Uzbekistan2011Uzbe...   \n",
      "758  Uzbekistan2012Uzbekistan2012Uzbekistan2012Uzbe...   \n",
      "759  Uzbekistan2013Uzbekistan2013Uzbekistan2013Uzbe...   \n",
      "760  Uzbekistan2014Uzbekistan2014Uzbekistan2014Uzbe...   \n",
      "\n",
      "                                     gdp_for_year ($)   \\\n",
      "0    8,992,642,3498,992,642,3498,992,642,3498,992,6...   \n",
      "1    10,701,011,89710,701,011,89710,701,011,89710,7...   \n",
      "2    12,881,352,68812,881,352,68812,881,352,68812,8...   \n",
      "3    12,044,212,90412,044,212,90412,044,212,90412,0...   \n",
      "4    11,926,953,25911,926,953,25911,926,953,25911,9...   \n",
      "..                                                 ...   \n",
      "756  39,332,770,92939,332,770,92939,332,770,92939,3...   \n",
      "757  45,915,191,18945,915,191,18945,915,191,18945,9...   \n",
      "758  51,821,573,33851,821,573,33851,821,573,33851,8...   \n",
      "759  57,690,453,46157,690,453,46157,690,453,46157,6...   \n",
      "760  63,067,077,17963,067,077,17963,067,077,17963,0...   \n",
      "\n",
      "                                            generation  longitude   latitude  \n",
      "0    MillenialsGeneration XBoomersMillenialsSilentS...  41.153332  20.168331  \n",
      "1    SilentBoomersSilentSilentGeneration XMillenial...  41.153332  20.168331  \n",
      "2    Generation XBoomersSilentSilentMillenialsGener...  41.153332  20.168331  \n",
      "3    MillenialsGeneration XBoomersGeneration ZSilen...  41.153332  20.168331  \n",
      "4    SilentGeneration XGeneration XSilentMillenials...  41.153332  20.168331  \n",
      "..                                                 ...        ...        ...  \n",
      "756  Generation XGeneration XSilentMillenialsMillen...  41.377491  64.585262  \n",
      "757  Generation XMillenialsMillenialsMillenialsBoom...  41.377491  64.585262  \n",
      "758  Generation XBoomersMillenialsMillenialsMilleni...  41.377491  64.585262  \n",
      "759  Generation XMillenialsMillenialsMillenialsBoom...  41.377491  64.585262  \n",
      "760  Generation XMillenialsMillenialsBoomersMilleni...  41.377491  64.585262  \n",
      "\n",
      "[761 rows x 14 columns]\n"
     ]
    }
   ],
   "source": [
    "import pandas as pd\n",
    "\n",
    "merged_df_emissions_gdp = pd.read_csv('../final_csv/merged_df_emissions_gdp.csv')\n",
    "merged_df_suicide_gdp = pd.read_csv('../final_csv/merged_df_suicide_gdp.csv')\n",
    "merged_df_emissions_suicide = pd.read_csv('../final_csv/merged_df_emissions_suicide.csv')\n",
    "\n",
    "# print(merged_df_emissions_gdp) \n",
    "#print(merged_df_suicide_gdp) \n",
    "print(merged_df_emissions_suicide) \n",
    "\n",
    "\n"
   ]
  },
  {
   "attachments": {},
   "cell_type": "markdown",
   "metadata": {},
   "source": [
    "Web server starten und Daten übergeben"
   ]
  },
  {
   "cell_type": "code",
   "execution_count": 7,
   "metadata": {},
   "outputs": [
    {
     "name": "stdout",
     "output_type": "stream",
     "text": [
      " * Serving Flask app '__main__'\n",
      " * Debug mode: off\n"
     ]
    },
    {
     "name": "stderr",
     "output_type": "stream",
     "text": [
      "WARNING: This is a development server. Do not use it in a production deployment. Use a production WSGI server instead.\n",
      " * Running on http://localhost:8080\n",
      "Press CTRL+C to quit\n"
     ]
    }
   ],
   "source": [
    "from flask import Flask, render_template\n",
    "app=Flask(__name__)\n",
    "@app.route('/')\n",
    "def root():\n",
    "    markers=[\n",
    "        {'lat':0, 'lon':0, 'popup':'This is the middle of the map.'}\n",
    "    ]\n",
    "    return render_template('index.html',markers=markers )\n",
    "\n",
    "if __name__ == '__main__':\n",
    "    app.run(host=\"localhost\", port=8080, debug=False)"
   ]
  }
 ],
 "metadata": {
  "kernelspec": {
   "display_name": "spenv",
   "language": "python",
   "name": "python3"
  },
  "language_info": {
   "codemirror_mode": {
    "name": "ipython",
    "version": 3
   },
   "file_extension": ".py",
   "mimetype": "text/x-python",
   "name": "python",
   "nbconvert_exporter": "python",
   "pygments_lexer": "ipython3",
   "version": "3.10.9"
  },
  "orig_nbformat": 4
 },
 "nbformat": 4,
 "nbformat_minor": 2
}
