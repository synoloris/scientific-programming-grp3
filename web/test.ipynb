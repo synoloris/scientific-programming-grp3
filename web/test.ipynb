{
 "cells": [
  {
   "attachments": {},
   "cell_type": "markdown",
   "metadata": {},
   "source": [
    "CSV Dateien holen"
   ]
  },
  {
   "cell_type": "code",
   "execution_count": 22,
   "metadata": {},
   "outputs": [
    {
     "name": "stdout",
     "output_type": "stream",
     "text": [
      "         country  year  suicides_no  population  suicides/100k pop  \\\n",
      "42       Austria  2006         1297     7869269             218.90   \n",
      "43       Austria  2007         1285     7897272             217.31   \n",
      "44       Austria  2008         1267     7925258             216.45   \n",
      "45       Austria  2009         1278     7946894             213.22   \n",
      "46       Austria  2010         1264     7968421             207.55   \n",
      "..           ...   ...          ...         ...                ...   \n",
      "662  Switzerland  2011         1034     7518040             168.22   \n",
      "663  Switzerland  2012         1038     7595591             165.39   \n",
      "664  Switzerland  2013         1071     7681318             170.26   \n",
      "665  Switzerland  2014         1032     7809621             162.10   \n",
      "666  Switzerland  2015         1073     7892502             164.66   \n",
      "\n",
      "    Country Code    GDP_Value  longitude   latitude  \n",
      "42           AUT  40669.32696  47.516231  14.550072  \n",
      "43           AUT  46915.33740  47.516231  14.550072  \n",
      "44           AUT  51919.98358  47.516231  14.550072  \n",
      "45           AUT  48153.32402  47.516231  14.550072  \n",
      "46           AUT  46903.76159  47.516231  14.550072  \n",
      "..           ...          ...        ...        ...  \n",
      "662          CHE  90476.75897  46.818188   8.227512  \n",
      "663          CHE  85836.20768  46.818188   8.227512  \n",
      "664          CHE  87304.33058  46.818188   8.227512  \n",
      "665          CHE  88724.99094  46.818188   8.227512  \n",
      "666          CHE  83806.44760  46.818188   8.227512  \n",
      "\n",
      "[254 rows x 9 columns]\n"
     ]
    }
   ],
   "source": [
    "import pandas as pd\n",
    "\n",
    "merged_df_emissions_gdp = pd.read_csv('../final_csv/merged_df_emissions_gdp.csv')\n",
    "merged_df_suicide_gdp = pd.read_csv('../final_csv/merged_df_suicide_gdp.csv')\n",
    "merged_df_emissions_suicide = pd.read_csv('../final_csv/merged_df_emissions_suicide.csv')\n",
    "\n",
    "# print(merged_df_emissions_gdp) \n",
    "# print(merged_df_emissions_suicide) \n",
    "\n",
    "eu_countries = [\n",
    "    'Austria',\n",
    "    'Belgium',\n",
    "    'Bulgaria',\n",
    "    'Cyprus',\n",
    "    'Czech Republic',\n",
    "    'Germany',\n",
    "    'Denmark',\n",
    "    'Estonia',\n",
    "    'Spain',\n",
    "    'Finland',\n",
    "    'France',\n",
    "    'United Kingdom',\n",
    "    'Greece',\n",
    "    'Hungary',\n",
    "    'Croatia',\n",
    "    'Ireland',\n",
    "    'Italy',\n",
    "    'Lithuania',\n",
    "    'Luxembourg',\n",
    "    'Latvia',\n",
    "    'Malta',\n",
    "    'Netherlands',\n",
    "    'Poland',\n",
    "    'Portugal',\n",
    "    'Romania',\n",
    "    'Sweden',\n",
    "    'Switzerland',\n",
    "    'Slovenia',\n",
    "    'Slovakia',\n",
    "]\n",
    "\n",
    "eu_filtered = merged_df_suicide_gdp[merged_df_suicide_gdp['country'].isin(eu_countries)]\n",
    "\n",
    "print(eu_filtered )"
   ]
  },
  {
   "attachments": {},
   "cell_type": "markdown",
   "metadata": {},
   "source": [
    "Web server starten und Daten übergeben"
   ]
  },
  {
   "cell_type": "code",
   "execution_count": 7,
   "metadata": {},
   "outputs": [
    {
     "name": "stdout",
     "output_type": "stream",
     "text": [
      " * Serving Flask app '__main__'\n",
      " * Debug mode: off\n"
     ]
    },
    {
     "name": "stderr",
     "output_type": "stream",
     "text": [
      "WARNING: This is a development server. Do not use it in a production deployment. Use a production WSGI server instead.\n",
      " * Running on http://localhost:8080\n",
      "Press CTRL+C to quit\n"
     ]
    }
   ],
   "source": [
    "from flask import Flask, render_template\n",
    "app=Flask(__name__)\n",
    "@app.route('/')\n",
    "def root():\n",
    "    markers=[\n",
    "        {'lat':0, 'lon':0, 'popup':'This is the middle of the map.'}\n",
    "    ]\n",
    "    return render_template('index.html',markers=markers )\n",
    "\n",
    "if __name__ == '__main__':\n",
    "    app.run(host=\"localhost\", port=8080, debug=False)"
   ]
  }
 ],
 "metadata": {
  "kernelspec": {
   "display_name": "spenv",
   "language": "python",
   "name": "python3"
  },
  "language_info": {
   "codemirror_mode": {
    "name": "ipython",
    "version": 3
   },
   "file_extension": ".py",
   "mimetype": "text/x-python",
   "name": "python",
   "nbconvert_exporter": "python",
   "pygments_lexer": "ipython3",
   "version": "3.10.9"
  },
  "orig_nbformat": 4
 },
 "nbformat": 4,
 "nbformat_minor": 2
}
