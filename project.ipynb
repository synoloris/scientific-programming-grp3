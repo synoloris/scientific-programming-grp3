{
 "cells": [
  {
   "attachments": {},
   "cell_type": "markdown",
   "metadata": {},
   "source": [
    "Import Statements"
   ]
  },
  {
   "cell_type": "code",
   "execution_count": 124,
   "metadata": {},
   "outputs": [],
   "source": [
    "import pandas as pd\n",
    "from kaggle.api.kaggle_api_extended import KaggleApi\n",
    "import zipfile\n",
    "import numpy as np\n",
    "import os\n",
    "\n",
    "def filter_countries(df, iso_column, iso_values):\n",
    "    # Create an empty DataFrame with the same columns as 'df'\n",
    "    filtered_df = pd.DataFrame(columns=df.columns)\n",
    "\n",
    "    # Iterate over the rows of the DataFrame\n",
    "    for index, row in df.iterrows():\n",
    "        # Get the ISO value from the current row\n",
    "        iso = row[iso_column]\n",
    "\n",
    "        # Check if the ISO value is in the specified list of ISO values\n",
    "        if iso in iso_values:\n",
    "            # Append the row to the filtered DataFrame\n",
    "            filtered_df = pd.concat([filtered_df, row.to_frame().T])\n",
    "\n",
    "    # Reset the index of the filtered DataFrame\n",
    "    filtered_df.reset_index(drop=True, inplace=True)\n",
    "\n",
    "    # Return the filtered DataFrame\n",
    "    return filtered_df\n",
    "\n",
    "\n",
    "def uniqueCountries(df):\n",
    "    list = df['country'].unique().tolist()\n",
    "\n",
    "    return list\n",
    "\n",
    "def comparingDataFrames(df1, df2, country_column):\n",
    "    # Get unique countries from each dataframe\n",
    "    countries_df1 = set(df1[country_column].unique())\n",
    "    countries_df2 = set(df2[country_column].unique())\n",
    "\n",
    "    # Find countries present in df2 but missing in df1\n",
    "    missing_in_df1 = list(countries_df2 - countries_df1)\n",
    "\n",
    "    return missing_in_df1\n",
    "\n",
    "def testIndex(*dataframes):\n",
    "    for df in dataframes:\n",
    "        df['index'] = df.groupby('country').ngroup()\n",
    "        df.set_index('index', inplace=True)\n",
    "        df.sort_index(inplace=True)"
   ]
  },
  {
   "attachments": {},
   "cell_type": "markdown",
   "metadata": {},
   "source": [
    "KaggleApi Settings"
   ]
  },
  {
   "cell_type": "code",
   "execution_count": 125,
   "metadata": {},
   "outputs": [],
   "source": [
    "api = KaggleApi()\n",
    "api.authenticate()"
   ]
  },
  {
   "attachments": {},
   "cell_type": "markdown",
   "metadata": {},
   "source": [
    "Import Datasets with Kaggle.API"
   ]
  },
  {
   "cell_type": "code",
   "execution_count": 126,
   "metadata": {},
   "outputs": [],
   "source": [
    "api.dataset_download_file('thedevastator/global-fossil-co2-emissions-by-country-2002-2022',\n",
    "                          file_name='GCB2022v27_MtCO2_flat.csv')\n",
    "with zipfile.ZipFile('GCB2022v27_MtCO2_flat.csv.zip', 'r') as zipref:\n",
    "    zipref.extractall()"
   ]
  },
  {
   "cell_type": "code",
   "execution_count": 127,
   "metadata": {},
   "outputs": [],
   "source": [
    "api.dataset_download_file('russellyates88/suicide-rates-overview-1985-to-2016',\n",
    "                          file_name='master.csv')\n",
    "with zipfile.ZipFile('master.csv.zip', 'r') as zipref:\n",
    "    zipref.extractall()"
   ]
  },
  {
   "cell_type": "code",
   "execution_count": 128,
   "metadata": {},
   "outputs": [
    {
     "data": {
      "text/plain": [
       "False"
      ]
     },
     "execution_count": 128,
     "metadata": {},
     "output_type": "execute_result"
    }
   ],
   "source": [
    "api.dataset_download_file('yapwh1208/countries-gdp-2012-to-2021', file_name='GDP.csv')"
   ]
  },
  {
   "cell_type": "code",
   "execution_count": 129,
   "metadata": {},
   "outputs": [
    {
     "data": {
      "text/plain": [
       "False"
      ]
     },
     "execution_count": 129,
     "metadata": {},
     "output_type": "execute_result"
    }
   ],
   "source": [
    "api.dataset_download_file('folaraz/world-countries-and-continents-details',\n",
    "                          file_name='Countries Longitude and Latitude.csv')"
   ]
  },
  {
   "cell_type": "code",
   "execution_count": 130,
   "metadata": {},
   "outputs": [],
   "source": [
    "#list with european countries and their iso codes\n",
    "df_countries_EUROPE = pd.read_csv(r'Country_ISOCode.csv', delimiter=',')\n",
    "df_countries_EUROPE.rename(columns={'Country':'country'}, inplace=True)"
   ]
  },
  {
   "cell_type": "code",
   "execution_count": 131,
   "metadata": {},
   "outputs": [],
   "source": [
    "df_allCountries = pd.read_csv(\"Countries%20Longitude%20and%20Latitude.csv\", sep=\",\")\n",
    "#lets see the columns\n",
    "df_allCountries.columns\n",
    "#'Unnamed: 0' is not needed lets drop it\n",
    "df_allCountries = df_allCountries.drop('Unnamed: 0', axis=1)\n",
    "#change name to country and correct coordinates format, they were wrong \n",
    "df_allCountries.rename(columns={'name':'country', 'longitude': 'latitude', 'latitude': 'longitude'}, inplace=True)\n",
    "#columns order \n",
    "column_orderA = ['country', 'latitude', 'longitude']\n",
    "df_allCountries = df_allCountries.reindex(columns=column_orderA)\n",
    "\n",
    "#Lets filter european countries and hope for the best\n",
    "european_df_newDfAllCountries = filter_countries(df_allCountries, 'country', df_countries_EUROPE['country'].values)\n",
    "\n",
    "#lets see what we are dealing with\n",
    "uniqueCountries_All = uniqueCountries(european_df_newDfAllCountries)\n",
    "\n",
    "#compare dataframes \n",
    "missingCountries_All = comparingDataFrames(european_df_newDfAllCountries, df_countries_EUROPE, 'country')\n",
    "# complete table - UK, Bosnia and North Macedonia are missing\n",
    "\n",
    "new_rowsAll = [\n",
    "    {'country': 'Bosnia and Herzegovina', 'latitude': 43.9159, 'longitude': 17.6791},\n",
    "    {'country': 'United Kingdom', 'latitude': 55.3781, 'longitude': -3.4360},\n",
    "    {'country': 'North Macedonia', 'latitude': 41.6086, 'longitude': 21.7453}\n",
    "]\n",
    "\n",
    "new_rows_df = pd.DataFrame(new_rowsAll)\n",
    "\n",
    "# Append the new rows to the original dataframe\n",
    "european_df_newDfAllCountries = pd.concat([european_df_newDfAllCountries, new_rows_df], ignore_index=True)\n",
    "\n",
    "#compare again\n",
    "missingCountries_All2 = comparingDataFrames(european_df_newDfAllCountries, df_countries_EUROPE, 'country')\n",
    "\n",
    "#see again what is going on -> ideal result, only Kosovo is missing\n",
    "uniqueCountries_All2 = uniqueCountries(european_df_newDfAllCountries)\n"
   ]
  },
  {
   "cell_type": "code",
   "execution_count": 132,
   "metadata": {},
   "outputs": [
    {
     "name": "stderr",
     "output_type": "stream",
     "text": [
      "C:\\Users\\Admin\\AppData\\Local\\Temp\\ipykernel_21972\\1938260955.py:4: SettingWithCopyWarning: \n",
      "A value is trying to be set on a copy of a slice from a DataFrame\n",
      "\n",
      "See the caveats in the documentation: https://pandas.pydata.org/pandas-docs/stable/user_guide/indexing.html#returning-a-view-versus-a-copy\n",
      "  new_df_emissions.rename(columns={'Year':'year', 'Country':'country', 'Total':'Total amount of CO2'}, inplace=True)\n"
     ]
    },
    {
     "name": "stdout",
     "output_type": "stream",
     "text": [
      "            country ISO 3166-1 alpha-3  year Total amount of CO2\n",
      "0           Albania                ALB  2006            3.910715\n",
      "1           Albania                ALB  2007             3.94897\n",
      "2           Albania                ALB  2008            4.397043\n",
      "3           Albania                ALB  2009            4.406552\n",
      "4           Albania                ALB  2010            4.783865\n",
      "..              ...                ...   ...                 ...\n",
      "468  United Kingdom                GBR  2012          487.476776\n",
      "469  United Kingdom                GBR  2013          477.611268\n",
      "470  United Kingdom                GBR  2014          438.807081\n",
      "471  United Kingdom                GBR  2015          422.460794\n",
      "472  United Kingdom                GBR  2016          399.430131\n",
      "\n",
      "[473 rows x 4 columns]\n"
     ]
    }
   ],
   "source": [
    "df_emissions = pd.read_csv(\"GCB2022v27_MtCO2_flat.csv\", sep=\",\")\n",
    "\n",
    "new_df_emissions = df_emissions[(df_emissions['Year'] >= 2006) & (df_emissions['Year'] <= 2016)]\n",
    "new_df_emissions.rename(columns={'Year':'year', 'Country':'country', 'Total':'Total amount of CO2'}, inplace=True)\n",
    "new_df_emissions = new_df_emissions.drop(['Coal', 'Oil', 'Gas', 'Cement', 'Flaring', 'Other', 'Per Capita'], axis=1)\n",
    "new_df_emissions\n",
    "\n",
    "european_df_newDfEmission = filter_countries(new_df_emissions, 'ISO 3166-1 alpha-3', df_countries_EUROPE['ISO Code'].values)\n",
    "print(european_df_newDfEmission)\n",
    "\n",
    "uniqueCountries1 = uniqueCountries(european_df_newDfEmission)\n",
    "\n",
    "#find out which countries are missing -> Result: All good,those are countries we agreed upon\n",
    "missingCountries1 = comparingDataFrames(european_df_newDfEmission, df_countries_EUROPE, 'country')\n",
    "\n"
   ]
  },
  {
   "cell_type": "code",
   "execution_count": 133,
   "metadata": {},
   "outputs": [
    {
     "name": "stdout",
     "output_type": "stream",
     "text": [
      "            country  year suicides_no\n",
      "0           Albania  2006           0\n",
      "1           Albania  2007         124\n",
      "2           Albania  2008         160\n",
      "3           Albania  2009           0\n",
      "4           Albania  2010          96\n",
      "..              ...   ...         ...\n",
      "360  United Kingdom  2011        4393\n",
      "361  United Kingdom  2012        4444\n",
      "362  United Kingdom  2013        4824\n",
      "363  United Kingdom  2014        4788\n",
      "364  United Kingdom  2015        4910\n",
      "\n",
      "[365 rows x 3 columns]\n"
     ]
    }
   ],
   "source": [
    "df_suicide = pd.read_csv(\"master.csv\", sep=\",\")\n",
    "\n",
    "new_df_suicide = df_suicide[(df_suicide['year'] >= 2006) & (df_suicide['year'] <= 2016)]\n",
    "# Group the dataframe by 'country' and 'year' and calculate the sum of 'suicides_no'\n",
    "new_df_suicide = new_df_suicide.groupby(['country', 'year'])['suicides_no'].sum(). reset_index()\n",
    "#new_df_suicide = new_df_suicide.drop(['HDI for year', 'gdp_per_capita ($)'], axis=1) -not necessary the last line was missing ['suicides_no']\n",
    "\n",
    "new_df_suicide\n",
    "#with the information i could gain through my missingCountries List, I can change the names\n",
    "new_df_suicide['country'] = new_df_suicide['country'].replace('Russian Federation', 'Russia')\n",
    "\n",
    "european_df_newDfSuicide = filter_countries(new_df_suicide, 'country', df_countries_EUROPE['country'].values)\n",
    "print(european_df_newDfSuicide)\n",
    "\n",
    "\n",
    "uniqueCountries2 = uniqueCountries(european_df_newDfSuicide)\n",
    "\n",
    "#find out which countries are missing on my newDfSuicide dataframe compared with to the emissions\n",
    "missingCountries2 = comparingDataFrames(european_df_newDfSuicide, european_df_newDfEmission, 'country')\n",
    "#compare to our european dataframe\n",
    "missingCountries3 = comparingDataFrames(european_df_newDfSuicide, df_countries_EUROPE, 'country')\n",
    "\n",
    "\n"
   ]
  },
  {
   "cell_type": "code",
   "execution_count": 134,
   "metadata": {},
   "outputs": [],
   "source": [
    "df_gdp = pd.read_csv(\"GDP.csv\", sep=\",\")\n",
    "\n",
    "new_df_gdp = df_gdp[['Country Name', 'Country Code', '2006', '2007', '2008', '2009', '2010', '2011', '2012', '2013', '2014', '2015', '2016']]\n",
    "new_df_gdp = new_df_gdp.melt(id_vars=[\"Country Name\", \"Country Code\"], var_name=\"year\")\n",
    "new_df_gdp['year'] = new_df_gdp['year'].astype('int64')\n",
    "new_df_gdp.rename(columns={'Country Name':'country', 'Country Code': 'ISO 3166-1 alpha-3', 'value':'GDP_Value'}, inplace=True)\n",
    "\n",
    "#with the results from the missingCountries4 let me change the names of the countries and see how many are missing afterwards\n",
    "new_df_gdp['country'] = new_df_gdp['country'].replace('Turkiye', 'Turkey')\n",
    "new_df_gdp['country'] = new_df_gdp['country'].replace('Czechia', 'Czech Republic')\n",
    "new_df_gdp['country'] = new_df_gdp['country'].replace('Russian Federation', 'Russia')\n",
    "new_df_gdp['country'] = new_df_gdp['country'].replace('Slovak Republic', 'Slovakia')\n",
    "\n",
    "#filter european coutnries\n",
    "european_df_newDfGdp = filter_countries(new_df_gdp, 'ISO 3166-1 alpha-3', df_countries_EUROPE['ISO Code'].values)\n",
    "\n",
    "uniqueCountries3 = uniqueCountries(european_df_newDfGdp)\n",
    "\n",
    "#if I compare countries we see that some names are written differently -> Changed names and now there are just 3 countries missing. Those countries are not needed as decided.\n",
    "missingCountries4 = comparingDataFrames(european_df_newDfEmission, european_df_newDfGdp, 'country')\n",
    "\n",
    "#comparing on iso - same results as by name\n",
    "missingCountries5 = comparingDataFrames(european_df_newDfEmission, european_df_newDfGdp, 'ISO 3166-1 alpha-3')\n",
    "\n",
    "#lets see which countries are missing comparing with european df -> ideal Result, countries were agreed upon\n",
    "missingCountries6 = comparingDataFrames(european_df_newDfGdp, df_countries_EUROPE, 'country')\n",
    "\n"
   ]
  },
  {
   "cell_type": "code",
   "execution_count": 135,
   "metadata": {},
   "outputs": [],
   "source": [
    "# same process for gdp and suicide -> Result as expected Suicide DF does not have data the same amount of countries\n",
    "missingCountries7 = comparingDataFrames(european_df_newDfSuicide, european_df_newDfGdp, 'country')\n"
   ]
  },
  {
   "attachments": {},
   "cell_type": "markdown",
   "metadata": {},
   "source": [
    "kombinieren\n"
   ]
  },
  {
   "cell_type": "code",
   "execution_count": 136,
   "metadata": {},
   "outputs": [],
   "source": [
    "#when you merge two dataframes on a common column (e.g., 'country'), by default, the merge will only include the rows where the value in the 'country' column is present in both dataframes\n",
    "merged_df_emissions_suicide = pd.merge(new_df_emissions, european_df_newDfSuicide, on=['country', 'year'])\n",
    "#as expected suicide dataframe only has 39 countries\n",
    "uniqueCountries_mergedEmSu = uniqueCountries(merged_df_emissions_suicide)\n",
    "#lets add the latitude and longitude \n",
    "merged_df_emissions_suicide = pd.merge(merged_df_emissions_suicide, european_df_newDfAllCountries, on=['country'])\n",
    "\n"
   ]
  },
  {
   "cell_type": "code",
   "execution_count": 137,
   "metadata": {},
   "outputs": [],
   "source": [
    "#merge on country and Year -> 43 countries expected\n",
    "merged_df_gdp_emissions = pd.merge(european_df_newDfGdp, european_df_newDfEmission, on=['country', 'year'])\n",
    "\n",
    "#clean new dataframe\n",
    "merged_df_gdp_emissions = merged_df_gdp_emissions.drop(['ISO 3166-1 alpha-3_y'], axis=1)\n",
    "\n",
    "#as expected suicide dataframe only has 43 countries\n",
    "uniqueCountries_mergedGdpEm = uniqueCountries(merged_df_gdp_emissions)\n",
    "\n",
    "#lets add the latitude and longitude \n",
    "merged_df_gdp_emissions = pd.merge(merged_df_gdp_emissions , european_df_newDfAllCountries, on=['country'])\n",
    "\n"
   ]
  },
  {
   "cell_type": "code",
   "execution_count": 138,
   "metadata": {},
   "outputs": [],
   "source": [
    "#merge on country and year, I expect 39 countries\n",
    "merged_df_gdp_suicide = pd.merge(european_df_newDfGdp, european_df_newDfSuicide, on=['country', 'year'])\n",
    "\n",
    "#as expected suicide dataframe only has 39 countries\n",
    "uniqueCountries_mergedGdpSu = uniqueCountries(merged_df_gdp_suicide)\n",
    "\n",
    "#lets add the latitude and longitude \n",
    "merged_df_gdp_suicide = pd.merge(merged_df_gdp_suicide , european_df_newDfAllCountries, on=['country'])"
   ]
  },
  {
   "cell_type": "code",
   "execution_count": 139,
   "metadata": {},
   "outputs": [
    {
     "data": {
      "text/plain": [
       "\"\\nmaybe this will be needed maybe not \\n\\ntestIndex(merged_df_emissions_suicideTest, merged_df_gdp_emissionsTest, merged_df_gdp_suicideTest )\\n\\nTo retrieve all the positions in a DataFrame that have a specific index value, you can use the `loc` accessor with a boolean condition. Here's an example:\\n\\n```python\\npositions_with_index_3 = merged_df_gdp_suicideTest.loc[merged_df_gdp_suicideTest.index == 3]\\n```\\n\\nIn the code above, `merged_df_gdp_suicideTest.index == 3` creates a boolean condition that checks if the index value is equal to 3. The `loc` accessor is then used to filter the DataFrame based on this condition, resulting in a new DataFrame `positions_with_index_3` that contains all the positions with the index value of 3.\\n\\nYou can access and manipulate the desired positions from the `positions_with_index_3` DataFrame as needed.\\n\\nI hope this helps! Let me know if you have any further questions.\\n\""
      ]
     },
     "execution_count": 139,
     "metadata": {},
     "output_type": "execute_result"
    }
   ],
   "source": [
    "# one index per country \n",
    "merged_df_emissions_suicideTest = merged_df_emissions_suicide\n",
    "merged_df_gdp_emissionsTest = merged_df_gdp_emissions\n",
    "merged_df_gdp_suicideTest = merged_df_gdp_suicide\n",
    "\n",
    "\"\"\"\n",
    "maybe this will be needed maybe not \n",
    "\n",
    "testIndex(merged_df_emissions_suicideTest, merged_df_gdp_emissionsTest, merged_df_gdp_suicideTest )\n",
    "\n",
    "To retrieve all the positions in a DataFrame that have a specific index value, you can use the `loc` accessor with a boolean condition. Here's an example:\n",
    "\n",
    "```python\n",
    "positions_with_index_3 = merged_df_gdp_suicideTest.loc[merged_df_gdp_suicideTest.index == 3]\n",
    "```\n",
    "\n",
    "In the code above, `merged_df_gdp_suicideTest.index == 3` creates a boolean condition that checks if the index value is equal to 3. The `loc` accessor is then used to filter the DataFrame based on this condition, resulting in a new DataFrame `positions_with_index_3` that contains all the positions with the index value of 3.\n",
    "\n",
    "You can access and manipulate the desired positions from the `positions_with_index_3` DataFrame as needed.\n",
    "\n",
    "I hope this helps! Let me know if you have any further questions.\n",
    "\"\"\""
   ]
  },
  {
   "attachments": {},
   "cell_type": "markdown",
   "metadata": {},
   "source": [
    "Use of Python built-in data structures (lists, dictionaries, sets, tuples)"
   ]
  },
  {
   "attachments": {},
   "cell_type": "markdown",
   "metadata": {},
   "source": []
  },
  {
   "cell_type": "code",
   "execution_count": 140,
   "metadata": {},
   "outputs": [],
   "source": [
    "#not needed\n",
    "##merged_df_emissions_suicide = merged_df_emissions_suicide.fillna(0)\n",
    "##merged_df_emissions_gdp = merged_df_emissions_gdp.fillna(0)\n",
    "##merged_df_suicide_gdp = merged_df_suicide_gdp.fillna(0)\n",
    "#df_countries = df_countries.fillna(0)\n",
    "##df_allCountries = df_allCountries.fillna(0)"
   ]
  },
  {
   "attachments": {},
   "cell_type": "markdown",
   "metadata": {},
   "source": [
    "Use of tables, vizualizations/graphics for data exploration"
   ]
  },
  {
   "attachments": {},
   "cell_type": "markdown",
   "metadata": {},
   "source": [
    "Integration of a statistical analyses (correlation analysis, statical tests)"
   ]
  },
  {
   "cell_type": "code",
   "execution_count": 141,
   "metadata": {},
   "outputs": [],
   "source": [
    "merged_df_gdp_emissions.to_csv(r'final_csv/merged_df_gdp_emissions.csv', index=False, header=True)\n",
    "merged_df_gdp_suicide.to_csv(r'final_csv/merged_df_gdp_suicide.csv', index=False, header=True)\n",
    "merged_df_emissions_suicide.to_csv(r'final_csv/merged_df_emissions_suicide.csv', index=False, header=True)"
   ]
  },
  {
   "attachments": {},
   "cell_type": "markdown",
   "metadata": {},
   "source": [
    "Remove all non-used files"
   ]
  },
  {
   "cell_type": "code",
   "execution_count": 142,
   "metadata": {},
   "outputs": [],
   "source": [
    "os.remove(\"master.csv\")\n",
    "os.remove(\"master.csv.zip\")\n",
    "os.remove(\"GDP.csv\")\n",
    "os.remove(\"GCB2022v27_MtCO2_flat.csv.zip\")\n",
    "os.remove(\"GCB2022v27_MtCO2_flat.csv\")"
   ]
  }
 ],
 "metadata": {
  "kernelspec": {
   "display_name": "spenv",
   "language": "python",
   "name": "python3"
  },
  "language_info": {
   "codemirror_mode": {
    "name": "ipython",
    "version": 3
   },
   "file_extension": ".py",
   "mimetype": "text/x-python",
   "name": "python",
   "nbconvert_exporter": "python",
   "pygments_lexer": "ipython3",
   "version": "3.10.11"
  },
  "orig_nbformat": 4
 },
 "nbformat": 4,
 "nbformat_minor": 2
}
