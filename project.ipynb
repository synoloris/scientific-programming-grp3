{
 "cells": [
  {
   "attachments": {},
   "cell_type": "markdown",
   "metadata": {},
   "source": [
    "Import Statements"
   ]
  },
  {
   "cell_type": "code",
   "execution_count": 105,
   "metadata": {},
   "outputs": [],
   "source": [
    "import pandas as pd\n",
    "import opendatasets as od\n",
    "from kaggle.api.kaggle_api_extended import KaggleApi\n",
    "import zipfile"
   ]
  },
  {
   "attachments": {},
   "cell_type": "markdown",
   "metadata": {},
   "source": [
    "KaggleApi Settings"
   ]
  },
  {
   "cell_type": "code",
   "execution_count": 106,
   "metadata": {},
   "outputs": [
    {
     "name": "stdout",
     "output_type": "stream",
     "text": [
      "Warning: Your Kaggle API key is readable by other users on this system! To fix this, you can run 'chmod 600 /Users/dominiqueulrich/.kaggle/kaggle.json'\n"
     ]
    }
   ],
   "source": [
    "api = KaggleApi()\n",
    "api.authenticate()"
   ]
  },
  {
   "attachments": {},
   "cell_type": "markdown",
   "metadata": {},
   "source": [
    "Import Datasets with Kaggle.API"
   ]
  },
  {
   "cell_type": "code",
   "execution_count": 107,
   "metadata": {},
   "outputs": [],
   "source": [
    "api.dataset_download_file('thedevastator/global-fossil-co2-emissions-by-country-2002-2022',\n",
    "                          file_name='GCB2022v27_MtCO2_flat.csv')\n",
    "with zipfile.ZipFile('GCB2022v27_MtCO2_flat.csv.zip', 'r') as zipref:\n",
    "    zipref.extractall()"
   ]
  },
  {
   "cell_type": "code",
   "execution_count": 108,
   "metadata": {},
   "outputs": [],
   "source": [
    "api.dataset_download_file('russellyates88/suicide-rates-overview-1985-to-2016',\n",
    "                          file_name='master.csv')\n",
    "with zipfile.ZipFile('master.csv.zip', 'r') as zipref:\n",
    "    zipref.extractall()"
   ]
  },
  {
   "cell_type": "code",
   "execution_count": 109,
   "metadata": {},
   "outputs": [
    {
     "data": {
      "text/plain": [
       "False"
      ]
     },
     "execution_count": 109,
     "metadata": {},
     "output_type": "execute_result"
    }
   ],
   "source": [
    "api.dataset_download_file('yapwh1208/countries-gdp-2012-to-2021',\n",
    "                          file_name='GDP.csv')"
   ]
  },
  {
   "attachments": {},
   "cell_type": "markdown",
   "metadata": {},
   "source": [
    "Read and Filter DataFiles"
   ]
  },
  {
   "cell_type": "code",
   "execution_count": 110,
   "metadata": {},
   "outputs": [],
   "source": [
    "df_emissions = pd.read_csv(\"GCB2022v27_MtCO2_flat.csv\", sep=\",\")\n",
    "\n",
    "new_df_emissions = df_emissions[(df_emissions['Year'] >= 2006) & (df_emissions['Year'] <= 2016)]"
   ]
  },
  {
   "cell_type": "code",
   "execution_count": 111,
   "metadata": {},
   "outputs": [],
   "source": [
    "df_suicide = pd.read_csv(\"master.csv\", sep=\",\")\n",
    "\n",
    "new_df_suicide = df_suicide[(df_suicide['year'] >= 2006) & (df_suicide['year'] <= 2016)]"
   ]
  },
  {
   "cell_type": "code",
   "execution_count": 114,
   "metadata": {},
   "outputs": [],
   "source": [
    "df_gdp = pd.read_csv(\"GDP.csv\", sep=\",\")\n",
    "\n",
    "new_df_gdp = df_gdp[['Country Name', 'Country Code', '2006', '2007', '2008', '2009', '2010', '2011', '2012', '2013', '2014', '2015', '2016']]"
   ]
  },
  {
   "attachments": {},
   "cell_type": "markdown",
   "metadata": {},
   "source": [
    "Use of Python built-in data structures (lists, dictionaries, sets, tuples)"
   ]
  },
  {
   "attachments": {},
   "cell_type": "markdown",
   "metadata": {},
   "source": [
    "Conditional statements, loop control statements and loops"
   ]
  },
  {
   "attachments": {},
   "cell_type": "markdown",
   "metadata": {},
   "source": [
    "Use of tables, vizualizations/graphics for data exploration"
   ]
  },
  {
   "attachments": {},
   "cell_type": "markdown",
   "metadata": {},
   "source": [
    "Integration of a statistical analyses (correlation analysis, statical tests)"
   ]
  },
  {
   "cell_type": "markdown",
   "metadata": {},
   "source": []
  },
  {
   "attachments": {},
   "cell_type": "markdown",
   "metadata": {},
   "source": [
    "Old Versions as Markdown"
   ]
  },
  {
   "attachments": {},
   "cell_type": "markdown",
   "metadata": {},
   "source": [
    "od.download(\"https://www.kaggle.com/datasets/thedevastator/global-fossil-co2-emissions-by-country-2002-2022\")\n",
    "od.download(\"https://www.kaggle.com/datasets/russellyates88/suicide-rates-overview-1985-to-2016\")\n",
    "od.download(\"https://www.kaggle.com/datasets/yapwh1208/countries-gdp-2012-to-2021\")"
   ]
  },
  {
   "attachments": {},
   "cell_type": "markdown",
   "metadata": {},
   "source": [
    "df_emissions = pd.read_csv(\"./global-fossil-co2-emissions-by-country-2002-2022/GCB2022v27_MtCO2_flat.csv\", sep=\",\")\n",
    "\n",
    "print(df_emissions)"
   ]
  },
  {
   "attachments": {},
   "cell_type": "markdown",
   "metadata": {},
   "source": [
    "df_gdp = pd.read_csv(\"./countries-gdp-2012-to-2021/GDP.csv\", sep=\",\")\n",
    "\n",
    "print(df_gdp)"
   ]
  },
  {
   "attachments": {},
   "cell_type": "markdown",
   "metadata": {},
   "source": [
    "df_suicide = pd.read_csv(\"suicide-rates-overview-1985-to-2016/master.csv\", sep=\",\")\n",
    "\n",
    "print(df_suicide)"
   ]
  }
 ],
 "metadata": {
  "kernelspec": {
   "display_name": "spenv",
   "language": "python",
   "name": "python3"
  },
  "language_info": {
   "codemirror_mode": {
    "name": "ipython",
    "version": 3
   },
   "file_extension": ".py",
   "mimetype": "text/x-python",
   "name": "python",
   "nbconvert_exporter": "python",
   "pygments_lexer": "ipython3",
   "version": "3.10.9"
  },
  "orig_nbformat": 4
 },
 "nbformat": 4,
 "nbformat_minor": 2
}
