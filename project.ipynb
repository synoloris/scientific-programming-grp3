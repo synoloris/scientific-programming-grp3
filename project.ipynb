{
 "cells": [
  {
   "attachments": {},
   "cell_type": "markdown",
   "metadata": {},
   "source": [
    "Import Statements"
   ]
  },
  {
   "cell_type": "code",
   "execution_count": 80,
   "metadata": {},
   "outputs": [],
   "source": [
    "import pandas as pd\n",
    "from kaggle.api.kaggle_api_extended import KaggleApi\n",
    "import zipfile\n",
    "import numpy as np\n",
    "import os\n",
    "\n",
    "def filter_countries(df, column_name, iso_column, iso_values):\n",
    "    # Create an empty DataFrame with the same columns as 'df'\n",
    "    filtered_df = pd.DataFrame(columns=df.columns)\n",
    "\n",
    "    # Iterate over the rows of the DataFrame\n",
    "    for index, row in df.iterrows():\n",
    "        # Get the ISO value from the current row\n",
    "        iso = row[iso_column]\n",
    "\n",
    "        # Check if the ISO value is in the specified list of ISO values\n",
    "        if iso in iso_values:\n",
    "            # Append the row to the filtered DataFrame\n",
    "            filtered_df = pd.concat([filtered_df, row.to_frame().T])\n",
    "\n",
    "    # Reset the index of the filtered DataFrame\n",
    "    filtered_df.reset_index(drop=True, inplace=True)\n",
    "\n",
    "    # Return the filtered DataFrame\n",
    "    return filtered_df"
   ]
  },
  {
   "attachments": {},
   "cell_type": "markdown",
   "metadata": {},
   "source": [
    "KaggleApi Settings"
   ]
  },
  {
   "cell_type": "code",
   "execution_count": 81,
   "metadata": {},
   "outputs": [],
   "source": [
    "api = KaggleApi()\n",
    "api.authenticate()"
   ]
  },
  {
   "attachments": {},
   "cell_type": "markdown",
   "metadata": {},
   "source": [
    "Import Datasets with Kaggle.API"
   ]
  },
  {
   "cell_type": "code",
   "execution_count": 82,
   "metadata": {},
   "outputs": [],
   "source": [
    "api.dataset_download_file('thedevastator/global-fossil-co2-emissions-by-country-2002-2022',\n",
    "                          file_name='GCB2022v27_MtCO2_flat.csv')\n",
    "with zipfile.ZipFile('GCB2022v27_MtCO2_flat.csv.zip', 'r') as zipref:\n",
    "    zipref.extractall()"
   ]
  },
  {
   "cell_type": "code",
   "execution_count": 83,
   "metadata": {},
   "outputs": [],
   "source": [
    "api.dataset_download_file('russellyates88/suicide-rates-overview-1985-to-2016',\n",
    "                          file_name='master.csv')\n",
    "with zipfile.ZipFile('master.csv.zip', 'r') as zipref:\n",
    "    zipref.extractall()"
   ]
  },
  {
   "cell_type": "code",
   "execution_count": 84,
   "metadata": {},
   "outputs": [
    {
     "data": {
      "text/plain": [
       "False"
      ]
     },
     "execution_count": 84,
     "metadata": {},
     "output_type": "execute_result"
    }
   ],
   "source": [
    "api.dataset_download_file('yapwh1208/countries-gdp-2012-to-2021',\n",
    "                          file_name='GDP.csv')"
   ]
  },
  {
   "cell_type": "code",
   "execution_count": 85,
   "metadata": {},
   "outputs": [
    {
     "data": {
      "text/plain": [
       "False"
      ]
     },
     "execution_count": 85,
     "metadata": {},
     "output_type": "execute_result"
    }
   ],
   "source": [
    "api.dataset_download_file('folaraz/world-countries-and-continents-details',\n",
    "                          file_name='Countries Longitude and Latitude.csv')"
   ]
  },
  {
   "attachments": {},
   "cell_type": "markdown",
   "metadata": {},
   "source": [
    "Read and Filter DataFiles"
   ]
  },
  {
   "cell_type": "code",
   "execution_count": 86,
   "metadata": {},
   "outputs": [
    {
     "name": "stderr",
     "output_type": "stream",
     "text": [
      "C:\\Users\\l_vonlanthen\\AppData\\Local\\Temp\\ipykernel_21256\\2350370852.py:4: SettingWithCopyWarning: \n",
      "A value is trying to be set on a copy of a slice from a DataFrame\n",
      "\n",
      "See the caveats in the documentation: https://pandas.pydata.org/pandas-docs/stable/user_guide/indexing.html#returning-a-view-versus-a-copy\n",
      "  new_df_emissions.rename(columns={'Year':'year', 'Country':'country'}, inplace=True)\n"
     ]
    }
   ],
   "source": [
    "df_emissions = pd.read_csv(\"GCB2022v27_MtCO2_flat.csv\", sep=\",\")\n",
    "\n",
    "new_df_emissions = df_emissions[(df_emissions['Year'] >= 2006) & (df_emissions['Year'] <= 2016)]\n",
    "new_df_emissions.rename(columns={'Year':'year', 'Country':'country'}, inplace=True)\n",
    "new_df_emissions = new_df_emissions.drop(['Coal', 'Oil', 'Gas', 'Cement', 'Flaring', 'Other', 'Per Capita'], axis=1)"
   ]
  },
  {
   "cell_type": "code",
   "execution_count": 87,
   "metadata": {},
   "outputs": [
    {
     "name": "stderr",
     "output_type": "stream",
     "text": [
      "C:\\Users\\l_vonlanthen\\AppData\\Local\\Temp\\ipykernel_21256\\1394213399.py:4: FutureWarning: The default value of numeric_only in DataFrameGroupBy.sum is deprecated. In a future version, numeric_only will default to False. Either specify numeric_only or select only columns which should be valid for the function.\n",
      "  new_df_suicide = new_df_suicide.groupby(['country', 'year']).sum(). reset_index()\n"
     ]
    }
   ],
   "source": [
    "df_suicide = pd.read_csv(\"master.csv\", sep=\",\")\n",
    "\n",
    "new_df_suicide = df_suicide[(df_suicide['year'] >= 2006) & (df_suicide['year'] <= 2016)]\n",
    "new_df_suicide = new_df_suicide.groupby(['country', 'year']).sum(). reset_index()\n",
    "new_df_suicide = new_df_suicide.drop(['HDI for year', 'gdp_per_capita ($)'], axis=1)"
   ]
  },
  {
   "cell_type": "code",
   "execution_count": 88,
   "metadata": {},
   "outputs": [],
   "source": [
    "df_gdp = pd.read_csv(\"GDP.csv\", sep=\",\")\n",
    "\n",
    "new_df_gdp = df_gdp[['Country Name', 'Country Code', '2006', '2007', '2008', '2009', '2010', '2011', '2012', '2013', '2014', '2015', '2016']]\n",
    "new_df_gdp = new_df_gdp.melt(id_vars=[\"Country Name\", \"Country Code\"], var_name=\"year\")\n",
    "new_df_gdp['year'] = new_df_gdp['year'].astype('int64')\n",
    "new_df_gdp.rename(columns={'Country Name':'country', 'value':'GDP_Value'}, inplace=True)"
   ]
  },
  {
   "cell_type": "code",
   "execution_count": 89,
   "metadata": {},
   "outputs": [],
   "source": [
    "df_allCountries = pd.read_csv(\"Countries%20Longitude%20and%20Latitude.csv\", sep=\",\")\n",
    "df_allCountries.rename(columns={'name':'country'}, inplace=True)\n"
   ]
  },
  {
   "attachments": {},
   "cell_type": "markdown",
   "metadata": {},
   "source": [
    "Conditional statements, loop control statements and loops"
   ]
  },
  {
   "cell_type": "code",
   "execution_count": 90,
   "metadata": {},
   "outputs": [
    {
     "name": "stdout",
     "output_type": "stream",
     "text": [
      "            country ISO 3166-1 alpha-3  year       Total\n",
      "0           Albania                ALB  2006    3.910715\n",
      "1           Albania                ALB  2007     3.94897\n",
      "2           Albania                ALB  2008    4.397043\n",
      "3           Albania                ALB  2009    4.406552\n",
      "4           Albania                ALB  2010    4.783865\n",
      "..              ...                ...   ...         ...\n",
      "468  United Kingdom                GBR  2012  487.476776\n",
      "469  United Kingdom                GBR  2013  477.611268\n",
      "470  United Kingdom                GBR  2014  438.807081\n",
      "471  United Kingdom                GBR  2015  422.460794\n",
      "472  United Kingdom                GBR  2016  399.430131\n",
      "\n",
      "[473 rows x 4 columns]\n"
     ]
    }
   ],
   "source": [
    "df_countries_EUROPE = pd.read_csv(r'Country_ISOCode.csv', delimiter=',')\n",
    "df_countries_EUROPE\n",
    "\n",
    "european_df_newDfEmission = filter_countries(new_df_emissions, 'column_name', 'ISO 3166-1 alpha-3', df_countries_EUROPE['ISO Code'].values)\n",
    "print(european_df_newDfEmission)\n"
   ]
  },
  {
   "attachments": {},
   "cell_type": "markdown",
   "metadata": {},
   "source": [
    "kombinieren\n"
   ]
  },
  {
   "cell_type": "code",
   "execution_count": 91,
   "metadata": {},
   "outputs": [],
   "source": [
    "merged_df_emissions_suicide = pd.merge(new_df_emissions, new_df_suicide, on=['country', 'year'])\n",
    "merged_df_emissions_suicide = pd.merge(merged_df_emissions_suicide, df_allCountries, on=['country'])\n",
    "merged_df_emissions_suicide = merged_df_emissions_suicide.drop('Unnamed: 0', axis=1)\n"
   ]
  },
  {
   "cell_type": "code",
   "execution_count": 92,
   "metadata": {},
   "outputs": [],
   "source": [
    "merged_df_emissions_gdp = pd.merge(new_df_emissions, new_df_gdp, on=['country', 'year'])\n",
    "merged_df_emissions_gdp = merged_df_emissions_gdp.drop(['Country Code'], axis=1)\n",
    "merged_df_emissions_gdp = pd.merge(merged_df_emissions_gdp, df_allCountries, on=['country'])\n",
    "merged_df_emissions_gdp = merged_df_emissions_gdp.drop('Unnamed: 0', axis=1)\n"
   ]
  },
  {
   "cell_type": "code",
   "execution_count": 93,
   "metadata": {},
   "outputs": [],
   "source": [
    "merged_df_suicide_gdp = pd.merge(new_df_suicide, new_df_gdp, on=['country', 'year'])\n",
    "merged_df_suicide_gdp = pd.merge(merged_df_suicide_gdp, df_allCountries, on=['country'])\n",
    "merged_df_suicide_gdp = merged_df_suicide_gdp.drop('Unnamed: 0', axis=1)"
   ]
  },
  {
   "attachments": {},
   "cell_type": "markdown",
   "metadata": {},
   "source": [
    "Use of Python built-in data structures (lists, dictionaries, sets, tuples)"
   ]
  },
  {
   "attachments": {},
   "cell_type": "markdown",
   "metadata": {},
   "source": []
  },
  {
   "cell_type": "code",
   "execution_count": 94,
   "metadata": {},
   "outputs": [],
   "source": [
    "merged_df_emissions_suicide = merged_df_emissions_suicide.fillna(0)\n",
    "merged_df_emissions_gdp = merged_df_emissions_gdp.fillna(0)\n",
    "merged_df_suicide_gdp = merged_df_suicide_gdp.fillna(0)\n",
    "df_countries = df_countries.fillna(0)\n",
    "df_allCountries = df_allCountries.fillna(0)"
   ]
  },
  {
   "attachments": {},
   "cell_type": "markdown",
   "metadata": {},
   "source": [
    "Use of tables, vizualizations/graphics for data exploration"
   ]
  },
  {
   "attachments": {},
   "cell_type": "markdown",
   "metadata": {},
   "source": [
    "Integration of a statistical analyses (correlation analysis, statical tests)"
   ]
  },
  {
   "cell_type": "code",
   "execution_count": 95,
   "metadata": {},
   "outputs": [],
   "source": [
    "merged_df_emissions_gdp.to_csv(r'final_csv/merged_df_emissions_gdp.csv', index=False, header=True)\n",
    "merged_df_suicide_gdp.to_csv(r'final_csv/merged_df_suicide_gdp.csv', index=False, header=True)\n",
    "merged_df_emissions_suicide.to_csv(r'final_csv/merged_df_emissions_suicide.csv', index=False, header=True)"
   ]
  },
  {
   "attachments": {},
   "cell_type": "markdown",
   "metadata": {},
   "source": [
    "Remove all non-used files"
   ]
  },
  {
   "cell_type": "code",
   "execution_count": 96,
   "metadata": {},
   "outputs": [],
   "source": [
    "os.remove(\"master.csv\")\n",
    "os.remove(\"master.csv.zip\")\n",
    "os.remove(\"GDP.csv\")\n",
    "os.remove(\"GCB2022v27_MtCO2_flat.csv.zip\")\n",
    "os.remove(\"GCB2022v27_MtCO2_flat.csv\")"
   ]
  }
 ],
 "metadata": {
  "kernelspec": {
   "display_name": "spenv",
   "language": "python",
   "name": "python3"
  },
  "language_info": {
   "codemirror_mode": {
    "name": "ipython",
    "version": 3
   },
   "file_extension": ".py",
   "mimetype": "text/x-python",
   "name": "python",
   "nbconvert_exporter": "python",
   "pygments_lexer": "ipython3",
   "version": "3.10.11"
  },
  "orig_nbformat": 4
 },
 "nbformat": 4,
 "nbformat_minor": 2
}
