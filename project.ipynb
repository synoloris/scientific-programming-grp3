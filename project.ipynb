{
 "cells": [
  {
   "attachments": {},
   "cell_type": "markdown",
   "metadata": {},
   "source": [
    "Import Statements"
   ]
  },
  {
   "cell_type": "code",
   "execution_count": 1,
   "metadata": {},
   "outputs": [],
   "source": [
    "import pandas as pd\n",
    "from kaggle.api.kaggle_api_extended import KaggleApi\n",
    "import zipfile\n",
    "import numpy as np"
   ]
  },
  {
   "attachments": {},
   "cell_type": "markdown",
   "metadata": {},
   "source": [
    "KaggleApi Settings"
   ]
  },
  {
   "cell_type": "code",
   "execution_count": 2,
   "metadata": {},
   "outputs": [],
   "source": [
    "api = KaggleApi()\n",
    "api.authenticate()"
   ]
  },
  {
   "attachments": {},
   "cell_type": "markdown",
   "metadata": {},
   "source": [
    "Import Datasets with Kaggle.API"
   ]
  },
  {
   "cell_type": "code",
   "execution_count": 3,
   "metadata": {},
   "outputs": [],
   "source": [
    "api.dataset_download_file('thedevastator/global-fossil-co2-emissions-by-country-2002-2022',\n",
    "                          file_name='GCB2022v27_MtCO2_flat.csv')\n",
    "with zipfile.ZipFile('GCB2022v27_MtCO2_flat.csv.zip', 'r') as zipref:\n",
    "    zipref.extractall()"
   ]
  },
  {
   "cell_type": "code",
   "execution_count": 4,
   "metadata": {},
   "outputs": [],
   "source": [
    "api.dataset_download_file('russellyates88/suicide-rates-overview-1985-to-2016',\n",
    "                          file_name='master.csv')\n",
    "with zipfile.ZipFile('master.csv.zip', 'r') as zipref:\n",
    "    zipref.extractall()"
   ]
  },
  {
   "cell_type": "code",
   "execution_count": 5,
   "metadata": {},
   "outputs": [
    {
     "data": {
      "text/plain": [
       "False"
      ]
     },
     "execution_count": 5,
     "metadata": {},
     "output_type": "execute_result"
    }
   ],
   "source": [
    "api.dataset_download_file('yapwh1208/countries-gdp-2012-to-2021',\n",
    "                          file_name='GDP.csv')"
   ]
  },
  {
   "cell_type": "code",
   "execution_count": 6,
   "metadata": {},
   "outputs": [
    {
     "data": {
      "text/plain": [
       "False"
      ]
     },
     "execution_count": 6,
     "metadata": {},
     "output_type": "execute_result"
    }
   ],
   "source": [
    "api.dataset_download_file('folaraz/world-countries-and-continents-details',\n",
    "                          file_name='Countries Longitude and Latitude.csv')"
   ]
  },
  {
   "attachments": {},
   "cell_type": "markdown",
   "metadata": {},
   "source": [
    "Read and Filter DataFiles"
   ]
  },
  {
   "cell_type": "code",
   "execution_count": 7,
   "metadata": {},
   "outputs": [
    {
     "name": "stderr",
     "output_type": "stream",
     "text": [
      "C:\\Users\\Admin\\AppData\\Local\\Temp\\ipykernel_26932\\2350370852.py:4: SettingWithCopyWarning: \n",
      "A value is trying to be set on a copy of a slice from a DataFrame\n",
      "\n",
      "See the caveats in the documentation: https://pandas.pydata.org/pandas-docs/stable/user_guide/indexing.html#returning-a-view-versus-a-copy\n",
      "  new_df_emissions.rename(columns={'Year':'year', 'Country':'country'}, inplace=True)\n"
     ]
    }
   ],
   "source": [
    "df_emissions = pd.read_csv(\"GCB2022v27_MtCO2_flat.csv\", sep=\",\")\n",
    "\n",
    "new_df_emissions = df_emissions[(df_emissions['Year'] >= 2006) & (df_emissions['Year'] <= 2016)]\n",
    "new_df_emissions.rename(columns={'Year':'year', 'Country':'country'}, inplace=True)\n",
    "new_df_emissions = new_df_emissions.drop(['Coal', 'Oil', 'Gas', 'Cement', 'Flaring', 'Other', 'Per Capita'], axis=1)"
   ]
  },
  {
   "cell_type": "code",
   "execution_count": 8,
   "metadata": {},
   "outputs": [],
   "source": [
    "df_suicide = pd.read_csv(\"master.csv\", sep=\",\")\n",
    "\n",
    "new_df_suicide = df_suicide[(df_suicide['year'] >= 2006) & (df_suicide['year'] <= 2016)]\n",
    "new_df_suicide = new_df_suicide.groupby(['country', 'year']).sum(). reset_index()\n",
    "new_df_suicide = new_df_suicide.drop(['HDI for year', 'gdp_per_capita ($)'], axis=1)"
   ]
  },
  {
   "cell_type": "code",
   "execution_count": 9,
   "metadata": {},
   "outputs": [],
   "source": [
    "df_gdp = pd.read_csv(\"GDP.csv\", sep=\",\")\n",
    "\n",
    "new_df_gdp = df_gdp[['Country Name', 'Country Code', '2006', '2007', '2008', '2009', '2010', '2011', '2012', '2013', '2014', '2015', '2016']]\n",
    "new_df_gdp = new_df_gdp.melt(id_vars=[\"Country Name\", \"Country Code\"], var_name=\"year\")\n",
    "new_df_gdp['year'] = new_df_gdp['year'].astype('int64')\n",
    "new_df_gdp.rename(columns={'Country Name':'country', 'value':'GDP_Value'}, inplace=True)"
   ]
  },
  {
   "cell_type": "code",
   "execution_count": 10,
   "metadata": {},
   "outputs": [],
   "source": [
    "df_allCountries = pd.read_csv(\"Countries%20Longitude%20and%20Latitude.csv\", sep=\",\")\n",
    "df_allCountries.rename(columns={'name':'country'}, inplace=True)\n"
   ]
  },
  {
   "attachments": {},
   "cell_type": "markdown",
   "metadata": {},
   "source": [
    "Conditional statements, loop control statements and loops"
   ]
  },
  {
   "cell_type": "code",
   "execution_count": 21,
   "metadata": {},
   "outputs": [
    {
     "name": "stdout",
     "output_type": "stream",
     "text": [
      "country\n",
      "Albania                   11\n",
      "Romania                   11\n",
      "North Macedonia           11\n",
      "Malta                     11\n",
      "Montenegro                11\n",
      "Netherlands               11\n",
      "Norway                    11\n",
      "Poland                    11\n",
      "Portugal                  11\n",
      "Moldova                   11\n",
      "Russia                    11\n",
      "Lithuania                 11\n",
      "Serbia                    11\n",
      "Slovakia                  11\n",
      "Slovenia                  11\n",
      "Spain                     11\n",
      "Sweden                    11\n",
      "Switzerland               11\n",
      "Turkey                    11\n",
      "Ukraine                   11\n",
      "Luxembourg                11\n",
      "Liechtenstein             11\n",
      "Andorra                   11\n",
      "Estonia                   11\n",
      "Austria                   11\n",
      "Belarus                   11\n",
      "Belgium                   11\n",
      "Bosnia and Herzegovina    11\n",
      "Bulgaria                  11\n",
      "Croatia                   11\n",
      "Czech Republic            11\n",
      "Denmark                   11\n",
      "Finland                   11\n",
      "Latvia                    11\n",
      "France                    11\n",
      "Georgia                   11\n",
      "Germany                   11\n",
      "Greece                    11\n",
      "Hungary                   11\n",
      "Iceland                   11\n",
      "Ireland                   11\n",
      "Italy                     11\n",
      "United Kingdom            11\n",
      "Name: count, dtype: int64\n"
     ]
    }
   ],
   "source": [
    "df_countries_EUROPE = pd.read_csv(r'Country_ISOCode.csv', delimiter=',')\n",
    "df_countries_EUROPE\n",
    "\n",
    "# Create an empty DataFrame with the same columns as 'new_df'\n",
    "european_df_newDfEmission = pd.DataFrame(columns=new_df_emissions.columns)\n",
    "\n",
    "# Iterate over the rows of the 'new_df' dataframe\n",
    "for index, row in new_df_emissions.iterrows():\n",
    "    # Get the country from the current row\n",
    "    iso = row['ISO 3166-1 alpha-3']\n",
    "    \n",
    "    # Check if the country is in the list of European countries\n",
    "    if iso in df_countries_EUROPE['ISO Code'].values:\n",
    "        # Append the row to the 'european_df'\n",
    "        european_df_newDfEmission = pd.concat([european_df_newDfEmission, row.to_frame().T])\n",
    "        \n",
    "# Reset the index of the new dataframe\n",
    "european_df_newDfEmission .reset_index(drop=True, inplace=True)\n",
    "\n",
    "# Print the new dataframe with the European countries\n",
    "european_df_newDfEmission \n",
    "\n",
    "# Count the occurrences of each country\n",
    "country_counts = european_df_newDfEmission['country'].value_counts()\n",
    "\n",
    "# Print the counts\n",
    "print(country_counts)\n"
   ]
  },
  {
   "attachments": {},
   "cell_type": "markdown",
   "metadata": {},
   "source": [
    "kombinieren\n"
   ]
  },
  {
   "cell_type": "code",
   "execution_count": 12,
   "metadata": {},
   "outputs": [],
   "source": [
    "merged_df_emissions_suicide = pd.merge(new_df_emissions, new_df_suicide, on=['country', 'year'])\n",
    "merged_df_emissions_suicide = pd.merge(merged_df_emissions_suicide, df_allCountries, on=['country'])\n",
    "merged_df_emissions_suicide = merged_df_emissions_suicide.drop('Unnamed: 0', axis=1)\n"
   ]
  },
  {
   "cell_type": "code",
   "execution_count": 13,
   "metadata": {},
   "outputs": [],
   "source": [
    "merged_df_emissions_gdp = pd.merge(new_df_emissions, new_df_gdp, on=['country', 'year'])\n",
    "merged_df_emissions_gdp = merged_df_emissions_gdp.drop(['Country Code'], axis=1)\n",
    "merged_df_emissions_gdp = pd.merge(merged_df_emissions_gdp, df_allCountries, on=['country'])\n",
    "merged_df_emissions_gdp = merged_df_emissions_gdp.drop('Unnamed: 0', axis=1)\n"
   ]
  },
  {
   "cell_type": "code",
   "execution_count": 14,
   "metadata": {},
   "outputs": [],
   "source": [
    "merged_df_suicide_gdp = pd.merge(new_df_suicide, new_df_gdp, on=['country', 'year'])\n",
    "merged_df_suicide_gdp = pd.merge(merged_df_suicide_gdp, df_allCountries, on=['country'])\n",
    "merged_df_suicide_gdp = merged_df_suicide_gdp.drop('Unnamed: 0', axis=1)"
   ]
  },
  {
   "attachments": {},
   "cell_type": "markdown",
   "metadata": {},
   "source": [
    "Use of Python built-in data structures (lists, dictionaries, sets, tuples)"
   ]
  },
  {
   "attachments": {},
   "cell_type": "markdown",
   "metadata": {},
   "source": []
  },
  {
   "cell_type": "code",
   "execution_count": 15,
   "metadata": {},
   "outputs": [],
   "source": [
    "merged_df_emissions_suicide = merged_df_emissions_suicide.fillna(0)\n",
    "merged_df_emissions_gdp = merged_df_emissions_gdp.fillna(0)\n",
    "merged_df_suicide_gdp = merged_df_suicide_gdp.fillna(0)\n",
    "df_countries = df_countries.fillna(0)\n",
    "df_allCountries = df_allCountries.fillna(0)"
   ]
  },
  {
   "attachments": {},
   "cell_type": "markdown",
   "metadata": {},
   "source": [
    "Use of tables, vizualizations/graphics for data exploration"
   ]
  },
  {
   "attachments": {},
   "cell_type": "markdown",
   "metadata": {},
   "source": [
    "Integration of a statistical analyses (correlation analysis, statical tests)"
   ]
  },
  {
   "cell_type": "code",
   "execution_count": 18,
   "metadata": {},
   "outputs": [],
   "source": [
    "#merged_df_emissions_gdp.to_csv(r'final_csv/merged_df_emissions_gdp.csv', index=False, header=True)\n",
    "#merged_df_suicide_gdp.to_csv(r'final_csv/merged_df_suicide_gdp.csv', index=False, header=True)\n",
    "#merged_df_emissions_suicide.to_csv(r'final_csv/merged_df_emissions_suicide.csv', index=False, header=True)"
   ]
  }
 ],
 "metadata": {
  "kernelspec": {
   "display_name": "spenv",
   "language": "python",
   "name": "python3"
  },
  "language_info": {
   "codemirror_mode": {
    "name": "ipython",
    "version": 3
   },
   "file_extension": ".py",
   "mimetype": "text/x-python",
   "name": "python",
   "nbconvert_exporter": "python",
   "pygments_lexer": "ipython3",
   "version": "3.10.11"
  },
  "orig_nbformat": 4
 },
 "nbformat": 4,
 "nbformat_minor": 2
}
