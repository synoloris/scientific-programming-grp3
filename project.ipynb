{
 "cells": [
  {
   "attachments": {},
   "cell_type": "markdown",
   "metadata": {},
   "source": [
    "Import Statements"
   ]
  },
  {
   "cell_type": "code",
   "execution_count": 338,
   "metadata": {},
   "outputs": [],
   "source": [
    "import pandas as pd\n",
    "from kaggle.api.kaggle_api_extended import KaggleApi\n",
    "import zipfile\n",
    "import numpy as np"
   ]
  },
  {
   "attachments": {},
   "cell_type": "markdown",
   "metadata": {},
   "source": [
    "KaggleApi Settings"
   ]
  },
  {
   "cell_type": "code",
   "execution_count": 339,
   "metadata": {},
   "outputs": [
    {
     "name": "stdout",
     "output_type": "stream",
     "text": [
      "Warning: Your Kaggle API key is readable by other users on this system! To fix this, you can run 'chmod 600 /Users/dominiqueulrich/.kaggle/kaggle.json'\n"
     ]
    }
   ],
   "source": [
    "api = KaggleApi()\n",
    "api.authenticate()"
   ]
  },
  {
   "attachments": {},
   "cell_type": "markdown",
   "metadata": {},
   "source": [
    "Import Datasets with Kaggle.API"
   ]
  },
  {
   "cell_type": "code",
   "execution_count": 340,
   "metadata": {},
   "outputs": [],
   "source": [
    "api.dataset_download_file('thedevastator/global-fossil-co2-emissions-by-country-2002-2022',\n",
    "                          file_name='GCB2022v27_MtCO2_flat.csv')\n",
    "with zipfile.ZipFile('GCB2022v27_MtCO2_flat.csv.zip', 'r') as zipref:\n",
    "    zipref.extractall()"
   ]
  },
  {
   "cell_type": "code",
   "execution_count": 341,
   "metadata": {},
   "outputs": [],
   "source": [
    "api.dataset_download_file('russellyates88/suicide-rates-overview-1985-to-2016',\n",
    "                          file_name='master.csv')\n",
    "with zipfile.ZipFile('master.csv.zip', 'r') as zipref:\n",
    "    zipref.extractall()"
   ]
  },
  {
   "cell_type": "code",
   "execution_count": 342,
   "metadata": {},
   "outputs": [
    {
     "data": {
      "text/plain": [
       "False"
      ]
     },
     "execution_count": 342,
     "metadata": {},
     "output_type": "execute_result"
    }
   ],
   "source": [
    "api.dataset_download_file('yapwh1208/countries-gdp-2012-to-2021',\n",
    "                          file_name='GDP.csv')"
   ]
  },
  {
   "cell_type": "code",
   "execution_count": 343,
   "metadata": {},
   "outputs": [
    {
     "data": {
      "text/plain": [
       "False"
      ]
     },
     "execution_count": 343,
     "metadata": {},
     "output_type": "execute_result"
    }
   ],
   "source": [
    "api.dataset_download_file('folaraz/world-countries-and-continents-details',\n",
    "                          file_name='Countries Longitude and Latitude.csv')"
   ]
  },
  {
   "attachments": {},
   "cell_type": "markdown",
   "metadata": {},
   "source": [
    "Read and Filter DataFiles"
   ]
  },
  {
   "cell_type": "code",
   "execution_count": 344,
   "metadata": {},
   "outputs": [
    {
     "name": "stderr",
     "output_type": "stream",
     "text": [
      "/var/folders/xv/m8qj2dh50mqf5mb38h6d9kyh0000gn/T/ipykernel_47986/2350370852.py:4: SettingWithCopyWarning: \n",
      "A value is trying to be set on a copy of a slice from a DataFrame\n",
      "\n",
      "See the caveats in the documentation: https://pandas.pydata.org/pandas-docs/stable/user_guide/indexing.html#returning-a-view-versus-a-copy\n",
      "  new_df_emissions.rename(columns={'Year':'year', 'Country':'country'}, inplace=True)\n"
     ]
    }
   ],
   "source": [
    "df_emissions = pd.read_csv(\"GCB2022v27_MtCO2_flat.csv\", sep=\",\")\n",
    "\n",
    "new_df_emissions = df_emissions[(df_emissions['Year'] >= 2006) & (df_emissions['Year'] <= 2016)]\n",
    "new_df_emissions.rename(columns={'Year':'year', 'Country':'country'}, inplace=True)\n",
    "new_df_emissions = new_df_emissions.drop(['Coal', 'Oil', 'Gas', 'Cement', 'Flaring', 'Other', 'Per Capita'], axis=1)"
   ]
  },
  {
   "cell_type": "code",
   "execution_count": 345,
   "metadata": {},
   "outputs": [
    {
     "name": "stderr",
     "output_type": "stream",
     "text": [
      "/var/folders/xv/m8qj2dh50mqf5mb38h6d9kyh0000gn/T/ipykernel_47986/1394213399.py:4: FutureWarning: The default value of numeric_only in DataFrameGroupBy.sum is deprecated. In a future version, numeric_only will default to False. Either specify numeric_only or select only columns which should be valid for the function.\n",
      "  new_df_suicide = new_df_suicide.groupby(['country', 'year']).sum(). reset_index()\n"
     ]
    }
   ],
   "source": [
    "df_suicide = pd.read_csv(\"master.csv\", sep=\",\")\n",
    "\n",
    "new_df_suicide = df_suicide[(df_suicide['year'] >= 2006) & (df_suicide['year'] <= 2016)]\n",
    "new_df_suicide = new_df_suicide.groupby(['country', 'year']).sum(). reset_index()\n",
    "new_df_suicide = new_df_suicide.drop(['HDI for year', 'gdp_per_capita ($)'], axis=1)"
   ]
  },
  {
   "cell_type": "code",
   "execution_count": 346,
   "metadata": {},
   "outputs": [],
   "source": [
    "df_gdp = pd.read_csv(\"GDP.csv\", sep=\",\")\n",
    "\n",
    "new_df_gdp = df_gdp[['Country Name', 'Country Code', '2006', '2007', '2008', '2009', '2010', '2011', '2012', '2013', '2014', '2015', '2016']]\n",
    "new_df_gdp = new_df_gdp.melt(id_vars=[\"Country Name\", \"Country Code\"], var_name=\"year\")\n",
    "new_df_gdp['year'] = new_df_gdp['year'].astype('int64')\n",
    "new_df_gdp.rename(columns={'Country Name':'country', 'value':'GDP_Value'}, inplace=True)"
   ]
  },
  {
   "cell_type": "code",
   "execution_count": 347,
   "metadata": {},
   "outputs": [],
   "source": [
    "df_allCountries = pd.read_csv(\"Countries%20Longitude%20and%20Latitude.csv\", sep=\",\")\n",
    "df_allCountries.rename(columns={'name':'country'}, inplace=True)\n"
   ]
  },
  {
   "cell_type": "code",
   "execution_count": 348,
   "metadata": {},
   "outputs": [],
   "source": [
    "df_countries = pd.read_excel(\"countries.xlsx\", sheet_name = \"Tabelle1\")\n",
    "df_countries.rename(columns={'Countries':'country'}, inplace=True)"
   ]
  },
  {
   "attachments": {},
   "cell_type": "markdown",
   "metadata": {},
   "source": [
    "kombinieren\n"
   ]
  },
  {
   "cell_type": "code",
   "execution_count": 349,
   "metadata": {},
   "outputs": [],
   "source": [
    "merged_df_emissions_suicide = pd.merge(new_df_emissions, new_df_suicide, on=['country', 'year'])\n",
    "merged_df_emissions_suicide = pd.merge(merged_df_emissions_suicide, df_allCountries, on=['country'])\n",
    "merged_df_emissions_suicide = merged_df_emissions_suicide.drop('Unnamed: 0', axis=1)\n"
   ]
  },
  {
   "cell_type": "code",
   "execution_count": 350,
   "metadata": {},
   "outputs": [],
   "source": [
    "merged_df_emissions_gdp = pd.merge(new_df_emissions, new_df_gdp, on=['country', 'year'])\n",
    "merged_df_emissions_gdp = merged_df_emissions_gdp.drop(['Country Code'], axis=1)\n",
    "merged_df_emissions_gdp = pd.merge(merged_df_emissions_gdp, df_allCountries, on=['country'])\n",
    "merged_df_emissions_gdp = merged_df_emissions_gdp.drop('Unnamed: 0', axis=1)\n"
   ]
  },
  {
   "cell_type": "code",
   "execution_count": 351,
   "metadata": {},
   "outputs": [],
   "source": [
    "merged_df_suicide_gdp = pd.merge(new_df_suicide, new_df_gdp, on=['country', 'year'])\n",
    "merged_df_suicide_gdp = pd.merge(merged_df_suicide_gdp, df_allCountries, on=['country'])\n",
    "merged_df_suicide_gdp = merged_df_suicide_gdp.drop('Unnamed: 0', axis=1)"
   ]
  },
  {
   "attachments": {},
   "cell_type": "markdown",
   "metadata": {},
   "source": [
    "Use of Python built-in data structures (lists, dictionaries, sets, tuples)"
   ]
  },
  {
   "attachments": {},
   "cell_type": "markdown",
   "metadata": {},
   "source": [
    "Conditional statements, loop control statements and loops"
   ]
  },
  {
   "cell_type": "markdown",
   "metadata": {},
   "source": []
  },
  {
   "cell_type": "code",
   "execution_count": 352,
   "metadata": {},
   "outputs": [],
   "source": [
    "merged_df_emissions_suicide = merged_df_emissions_suicide.fillna(0)\n",
    "merged_df_emissions_gdp = merged_df_emissions_gdp.fillna(0)\n",
    "merged_df_suicide_gdp = merged_df_suicide_gdp.fillna(0)\n",
    "df_countries = df_countries.fillna(0)\n",
    "df_allCountries = df_allCountries.fillna(0)"
   ]
  },
  {
   "attachments": {},
   "cell_type": "markdown",
   "metadata": {},
   "source": [
    "Use of tables, vizualizations/graphics for data exploration"
   ]
  },
  {
   "attachments": {},
   "cell_type": "markdown",
   "metadata": {},
   "source": [
    "Integration of a statistical analyses (correlation analysis, statical tests)"
   ]
  },
  {
   "cell_type": "code",
   "execution_count": null,
   "metadata": {},
   "outputs": [],
   "source": [
    "merged_df_emissions_gdp.to_csv(r'/Users/dominiqueulrich/Downloads/merged_df_emissions_gdp.csv', index=False, header=True)\n",
    "merged_df_suicide_gdp.to_csv(r'/Users/dominiqueulrich/Downloads/merged_df_suicide_gdp.csv', index=False, header=True)\n",
    "merged_df_emissions_suicide.to_csv(r'/Users/dominiqueulrich/Downloads/merged_df_emissions_suicide.csv', index=False, header=True)"
   ]
  }
 ],
 "metadata": {
  "kernelspec": {
   "display_name": "spenv",
   "language": "python",
   "name": "python3"
  },
  "language_info": {
   "codemirror_mode": {
    "name": "ipython",
    "version": 3
   },
   "file_extension": ".py",
   "mimetype": "text/x-python",
   "name": "python",
   "nbconvert_exporter": "python",
   "pygments_lexer": "ipython3",
   "version": "3.10.9"
  },
  "orig_nbformat": 4
 },
 "nbformat": 4,
 "nbformat_minor": 2
}
